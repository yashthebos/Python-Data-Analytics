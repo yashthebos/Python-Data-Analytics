{
 "cells": [
  {
   "cell_type": "code",
   "execution_count": 1,
   "metadata": {},
   "outputs": [
    {
     "name": "stdout",
     "output_type": "stream",
     "text": [
      "['drive', 'google', 'gallery', 'blinkit', 'swiggy', 'zomato', 'uber', 'maps', 'instagram', 'crome']\n"
     ]
    }
   ],
   "source": [
    "apps=['drive','google','gallery','blinkit','swiggy','zomato','uber','maps','instagram','crome']\n",
    "print(apps)"
   ]
  },
  {
   "cell_type": "markdown",
   "metadata": {},
   "source": [
    "indexing\n"
   ]
  },
  {
   "cell_type": "code",
   "execution_count": 2,
   "metadata": {},
   "outputs": [
    {
     "name": "stdout",
     "output_type": "stream",
     "text": [
      "gallery\n",
      "maps\n"
     ]
    }
   ],
   "source": [
    "print(apps[2])\n",
    "print(apps[7])"
   ]
  },
  {
   "cell_type": "code",
   "execution_count": 3,
   "metadata": {},
   "outputs": [
    {
     "name": "stdout",
     "output_type": "stream",
     "text": [
      "maps\n"
     ]
    }
   ],
   "source": [
    "print(apps[-3])"
   ]
  },
  {
   "cell_type": "code",
   "execution_count": 4,
   "metadata": {},
   "outputs": [
    {
     "name": "stdout",
     "output_type": "stream",
     "text": [
      "drive\n"
     ]
    }
   ],
   "source": [
    "print(apps[-10])"
   ]
  },
  {
   "cell_type": "markdown",
   "metadata": {},
   "source": [
    "slicing"
   ]
  },
  {
   "cell_type": "code",
   "execution_count": 5,
   "metadata": {},
   "outputs": [
    {
     "name": "stdout",
     "output_type": "stream",
     "text": [
      "['gallery', 'blinkit', 'swiggy', 'zomato', 'uber', 'maps']\n",
      "['drive', 'google', 'gallery', 'blinkit', 'swiggy']\n",
      "['zomato', 'uber', 'maps', 'instagram', 'crome']\n",
      "['drive', 'google', 'gallery', 'blinkit', 'swiggy', 'zomato', 'uber', 'maps', 'instagram', 'crome']\n",
      "['zomato', 'uber', 'maps', 'instagram', 'crome']\n"
     ]
    }
   ],
   "source": [
    "print(apps[2:8])\n",
    "print(apps[:5])\n",
    "print(apps[5:])\n",
    "print(apps[:])\n",
    "print(apps[-5:])"
   ]
  },
  {
   "cell_type": "code",
   "execution_count": 6,
   "metadata": {},
   "outputs": [
    {
     "name": "stdout",
     "output_type": "stream",
     "text": [
      "['drive', 'gallery', 'swiggy', 'uber', 'instagram']\n"
     ]
    }
   ],
   "source": [
    "print(apps[0::2])"
   ]
  },
  {
   "cell_type": "markdown",
   "metadata": {},
   "source": [
    "METHODS OF LIST-\n",
    "(1)APPEND - to add item at the end of the list\n",
    "\n",
    "(2)INSERT- to add item at any specific index position\n",
    "\n",
    "(3)POP- to delete item from any specific index position\n",
    "\n",
    "(4)remove-to delete item using item's name\n",
    "\n",
    "(5)SORT-to arrange the item in any order\n",
    "\n",
    "(6)COPY- to make a copy of the list\n",
    "\n",
    "(7)EXTEND- to combine two list\n",
    "\n",
    "(8)CLEAR-to delete all the items from the list"
   ]
  },
  {
   "cell_type": "code",
   "execution_count": 7,
   "metadata": {},
   "outputs": [
    {
     "name": "stdout",
     "output_type": "stream",
     "text": [
      "['drive', 'google', 'gallery', 'blinkit', 'swiggy', 'zomato', 'uber', 'maps', 'instagram', 'crome']\n"
     ]
    }
   ],
   "source": [
    "print(apps)"
   ]
  },
  {
   "cell_type": "code",
   "execution_count": 8,
   "metadata": {},
   "outputs": [
    {
     "name": "stdout",
     "output_type": "stream",
     "text": [
      "['drive', 'google', 'gallery', 'blinkit', 'swiggy', 'zomato', 'uber', 'maps', 'instagram', 'crome', 'facebok']\n"
     ]
    }
   ],
   "source": [
    "apps.append('facebok')\n",
    "print(apps)"
   ]
  },
  {
   "cell_type": "code",
   "execution_count": 9,
   "metadata": {},
   "outputs": [
    {
     "name": "stdout",
     "output_type": "stream",
     "text": [
      "['drive', 'google', 'gallery', 'snapchat', 'blinkit', 'swiggy', 'zomato', 'uber', 'maps', 'instagram', 'crome', 'facebok']\n"
     ]
    }
   ],
   "source": [
    "apps.insert(3,'snapchat')\n",
    "print(apps)"
   ]
  },
  {
   "cell_type": "code",
   "execution_count": 11,
   "metadata": {},
   "outputs": [
    {
     "name": "stdout",
     "output_type": "stream",
     "text": [
      "['drive', 'google', 'gallery', 'snapchat', 'blinkit', 'uber', 'maps', 'instagram', 'crome', 'facebok']\n"
     ]
    }
   ],
   "source": [
    "apps.pop(5)\n",
    "print(apps)"
   ]
  },
  {
   "cell_type": "code",
   "execution_count": 12,
   "metadata": {},
   "outputs": [
    {
     "name": "stdout",
     "output_type": "stream",
     "text": [
      "['drive', 'google', 'gallery', 'snapchat', 'blinkit', 'uber', 'instagram', 'crome', 'facebok']\n"
     ]
    }
   ],
   "source": [
    "apps.remove('maps')\n",
    "print(apps)"
   ]
  },
  {
   "cell_type": "code",
   "execution_count": 13,
   "metadata": {},
   "outputs": [
    {
     "name": "stdout",
     "output_type": "stream",
     "text": [
      "['blinkit', 'crome', 'drive', 'facebok', 'gallery', 'google', 'instagram', 'snapchat', 'uber']\n"
     ]
    }
   ],
   "source": [
    "apps.sort()\n",
    "print(apps)"
   ]
  },
  {
   "cell_type": "code",
   "execution_count": 14,
   "metadata": {},
   "outputs": [
    {
     "name": "stdout",
     "output_type": "stream",
     "text": [
      "['blinkit', 'crome', 'drive', 'facebok', 'gallery', 'google', 'instagram', 'snapchat', 'uber']\n"
     ]
    }
   ],
   "source": [
    "apps2 =apps.copy()\n",
    "print(apps2)"
   ]
  },
  {
   "cell_type": "code",
   "execution_count": 17,
   "metadata": {},
   "outputs": [
    {
     "name": "stdout",
     "output_type": "stream",
     "text": [
      "[]\n"
     ]
    }
   ],
   "source": [
    "apps2.clear()\n",
    "print(apps2)"
   ]
  },
  {
   "cell_type": "code",
   "execution_count": 18,
   "metadata": {},
   "outputs": [
    {
     "name": "stdout",
     "output_type": "stream",
     "text": [
      "['swiggy', 'linked in', 'canva', 'calender', 'blinkit', 'crome', 'drive', 'facebok', 'gallery', 'google', 'instagram', 'snapchat', 'uber']\n"
     ]
    }
   ],
   "source": [
    "list=['swiggy','linked in','canva','calender']\n",
    "list.extend(apps)\n",
    "print(list)"
   ]
  },
  {
   "cell_type": "code",
   "execution_count": null,
   "metadata": {},
   "outputs": [],
   "source": []
  }
 ],
 "metadata": {
  "kernelspec": {
   "display_name": "base",
   "language": "python",
   "name": "python3"
  },
  "language_info": {
   "codemirror_mode": {
    "name": "ipython",
    "version": 3
   },
   "file_extension": ".py",
   "mimetype": "text/x-python",
   "name": "python",
   "nbconvert_exporter": "python",
   "pygments_lexer": "ipython3",
   "version": "3.12.3"
  }
 },
 "nbformat": 4,
 "nbformat_minor": 2
}

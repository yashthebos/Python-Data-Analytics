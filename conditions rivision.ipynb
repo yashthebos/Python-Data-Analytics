{
 "cells": [
  {
   "cell_type": "markdown",
   "metadata": {},
   "source": []
  },
  {
   "cell_type": "markdown",
   "metadata": {},
   "source": [
    "conditions:\n",
    "- if - multiple condition,\n",
    "- if else- single condtion,\n",
    "- elif- multiple condition,\n",
    "- nested if - multiple condition\n",
    "\n"
   ]
  },
  {
   "cell_type": "code",
   "execution_count": 3,
   "metadata": {},
   "outputs": [
    {
     "name": "stdout",
     "output_type": "stream",
     "text": [
      "A\n",
      "B\n"
     ]
    }
   ],
   "source": [
    "marks= 75\n",
    "if marks >=90:\n",
    "    print(\"A+\")\n",
    "if marks >=70:\n",
    "    print(\"A\")    \n",
    "if marks >=50:\n",
    "    print(\"B\")\n",
    "if marks <50:\n",
    "    print(\"fail\")        "
   ]
  },
  {
   "cell_type": "code",
   "execution_count": 4,
   "metadata": {},
   "outputs": [
    {
     "name": "stdout",
     "output_type": "stream",
     "text": [
      "A\n"
     ]
    }
   ],
   "source": [
    "marks= 75\n",
    "if marks >=90:\n",
    "    print(\"A+\")\n",
    "elif marks >=70:\n",
    "    print(\"A\")    \n",
    "elif marks >=50:\n",
    "    print(\"B\")\n",
    "elif marks <50:\n",
    "    print(\"fail\")\n",
    "else:\n",
    "    print(\"invalid marks\")    "
   ]
  },
  {
   "cell_type": "code",
   "execution_count": 6,
   "metadata": {},
   "outputs": [
    {
     "name": "stdout",
     "output_type": "stream",
     "text": [
      "eligible for vote\n"
     ]
    }
   ],
   "source": [
    "age=34\n",
    "if age>=18:\n",
    "    print(\"eligible for vote\")\n",
    "else:\n",
    "    print(\"not eligible\")    "
   ]
  },
  {
   "cell_type": "markdown",
   "metadata": {},
   "source": [
    "-  check whether a number is positive or negative\n",
    "- check whether number is even or odd\n",
    "- check whether a trangle is equilateral or not\n",
    "- take a list of 10 apps and check whether \"zomato\"  is in the list or not\n",
    "- enter a character by user and check whether it is a vowel or not\n",
    "- check whether two sides entered by user are equal or not"
   ]
  },
  {
   "cell_type": "code",
   "execution_count": 1,
   "metadata": {},
   "outputs": [
    {
     "name": "stdout",
     "output_type": "stream",
     "text": [
      "number is positive\n"
     ]
    }
   ],
   "source": [
    "num= 10\n",
    "if num>=0:\n",
    "    print(\"number is positive\")\n",
    "else:\n",
    "    print(\"number is negative\")    "
   ]
  },
  {
   "cell_type": "code",
   "execution_count": 2,
   "metadata": {},
   "outputs": [
    {
     "name": "stdout",
     "output_type": "stream",
     "text": [
      "number is even\n"
     ]
    }
   ],
   "source": [
    "num = 10\n",
    "\n",
    "if num%2==0:\n",
    "    print(\"number is even\")\n",
    "else:\n",
    "    print(\"number is odd\")    "
   ]
  },
  {
   "cell_type": "code",
   "execution_count": 3,
   "metadata": {},
   "outputs": [
    {
     "name": "stdout",
     "output_type": "stream",
     "text": [
      " it is  equilateral\n"
     ]
    }
   ],
   "source": [
    "side_a=10\n",
    "side_b=10\n",
    "side_c=10\n",
    "\n",
    "if side_a == side_b ==side_c ==10:\n",
    "    print(\" it is  equilateral\")\n",
    "else:\n",
    "    print(\"not equilateral\")"
   ]
  },
  {
   "cell_type": "code",
   "execution_count": 2,
   "metadata": {},
   "outputs": [
    {
     "ename": "NameError",
     "evalue": "name 'a' is not defined",
     "output_type": "error",
     "traceback": [
      "\u001b[1;31m---------------------------------------------------------------------------\u001b[0m",
      "\u001b[1;31mNameError\u001b[0m                                 Traceback (most recent call last)",
      "Cell \u001b[1;32mIn[2], line 3\u001b[0m\n\u001b[0;32m      1\u001b[0m char \u001b[38;5;241m=\u001b[39m \u001b[38;5;28minput\u001b[39m(\u001b[38;5;124m\"\u001b[39m\u001b[38;5;124menter a vowel\u001b[39m\u001b[38;5;124m\"\u001b[39m)\n\u001b[1;32m----> 3\u001b[0m \u001b[38;5;28;01mif\u001b[39;00m (char\u001b[38;5;241m==\u001b[39m\u001b[43ma\u001b[49m,e,i,o,u):\n\u001b[0;32m      4\u001b[0m     \u001b[38;5;28mprint\u001b[39m(\u001b[38;5;124m\"\u001b[39m\u001b[38;5;124m vowel\u001b[39m\u001b[38;5;124m\"\u001b[39m)\n\u001b[0;32m      5\u001b[0m \u001b[38;5;28;01melse\u001b[39;00m:\n",
      "\u001b[1;31mNameError\u001b[0m: name 'a' is not defined"
     ]
    }
   ],
   "source": [
    "char = input(\"enter a vowel\")\n",
    "\n",
    "if (char==a,e,i,o,u):\n",
    "    print(\" vowel\")\n",
    "else:\n",
    "    print(\"not vowel\")    \n"
   ]
  },
  {
   "cell_type": "code",
   "execution_count": null,
   "metadata": {},
   "outputs": [],
   "source": []
  }
 ],
 "metadata": {
  "kernelspec": {
   "display_name": "base",
   "language": "python",
   "name": "python3"
  },
  "language_info": {
   "codemirror_mode": {
    "name": "ipython",
    "version": 3
   },
   "file_extension": ".py",
   "mimetype": "text/x-python",
   "name": "python",
   "nbconvert_exporter": "python",
   "pygments_lexer": "ipython3",
   "version": "3.12.3"
  }
 },
 "nbformat": 4,
 "nbformat_minor": 2
}

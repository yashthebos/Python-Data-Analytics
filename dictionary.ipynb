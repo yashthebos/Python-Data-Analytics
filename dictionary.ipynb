{
 "cells": [
  {
   "cell_type": "markdown",
   "metadata": {},
   "source": [
    "- HOW TO CREAT DICTIONARY IN DIFFERENT WAYS\n",
    "- HOW TO ACCES KEY AND VALUES\n",
    "- LOOPS IN DICTIONARY\n"
   ]
  },
  {
   "cell_type": "code",
   "execution_count": 10,
   "metadata": {},
   "outputs": [
    {
     "name": "stdout",
     "output_type": "stream",
     "text": [
      "{'lucknow': [25, 30, 35], 'delhi': [20, 25, 30], 'mumbai': [30, 35, 40]}\n"
     ]
    }
   ],
   "source": [
    "temp={\n",
    "    'lucknow':[25,30,35],\n",
    "    'delhi':[20,25,30],\n",
    "    'mumbai':[30,35,40],\n",
    "\n",
    "}\n",
    "print(temp)"
   ]
  },
  {
   "cell_type": "code",
   "execution_count": 13,
   "metadata": {},
   "outputs": [
    {
     "name": "stdout",
     "output_type": "stream",
     "text": [
      "{'name': 'john', 'roll_no': 2, 'age': 17}\n"
     ]
    }
   ],
   "source": [
    "info=dict(name='john',roll_no=2,age=17)\n",
    "print(info)"
   ]
  },
  {
   "cell_type": "code",
   "execution_count": 14,
   "metadata": {},
   "outputs": [
    {
     "name": "stdout",
     "output_type": "stream",
     "text": [
      "{'name': 'john', 'roll_no': 17}\n"
     ]
    }
   ],
   "source": [
    "info2=dict([('name','john'),('roll_no',17),])\n",
    "print(info2)"
   ]
  },
  {
   "cell_type": "code",
   "execution_count": 20,
   "metadata": {},
   "outputs": [
    {
     "name": "stdout",
     "output_type": "stream",
     "text": [
      "{'name': 'yash', 'roll_no': 21, 'age': 21}\n"
     ]
    }
   ],
   "source": [
    "info3=dict(name=input('enter name:'),roll_no=int(input('enter roll no')),age=int(input('enter your age')))\n",
    "print(info3)"
   ]
  },
  {
   "cell_type": "code",
   "execution_count": 1,
   "metadata": {},
   "outputs": [
    {
     "name": "stdout",
     "output_type": "stream",
     "text": [
      "{'name': 'john', 'class': '12th', 'roll_no': 2, 'age': 17}\n"
     ]
    }
   ],
   "source": [
    "student ={\n",
    "    \"name\":\"john\",\n",
    "    \"class\":\"12th\",\n",
    "    \"roll_no\":2,\n",
    "    \"age\":17\n",
    "\n",
    "}\n",
    "print(student)"
   ]
  },
  {
   "cell_type": "code",
   "execution_count": 2,
   "metadata": {},
   "outputs": [
    {
     "name": "stdout",
     "output_type": "stream",
     "text": [
      "17\n",
      "john\n",
      "2\n"
     ]
    }
   ],
   "source": [
    "## first mathod\n",
    "print(student['age'])\n",
    "print(student['name'])\n",
    "print(student['roll_no'])"
   ]
  },
  {
   "cell_type": "code",
   "execution_count": 3,
   "metadata": {},
   "outputs": [
    {
     "name": "stdout",
     "output_type": "stream",
     "text": [
      "{'name': 'john', 'class': '12th', 'roll_no': 2, 'age': 17, 'address': 'lucknow'}\n"
     ]
    }
   ],
   "source": [
    "# to add a key value pair\n",
    "student['address'] = 'lucknow'\n",
    "print(student)"
   ]
  },
  {
   "cell_type": "code",
   "execution_count": null,
   "metadata": {},
   "outputs": [],
   "source": []
  },
  {
   "cell_type": "code",
   "execution_count": 4,
   "metadata": {},
   "outputs": [
    {
     "name": "stdout",
     "output_type": "stream",
     "text": [
      "17\n",
      "john\n"
     ]
    }
   ],
   "source": [
    "# 2nd method\n",
    "print(student.get('age'))\n",
    "print(student.get('name'))"
   ]
  },
  {
   "cell_type": "code",
   "execution_count": 5,
   "metadata": {},
   "outputs": [
    {
     "name": "stdout",
     "output_type": "stream",
     "text": [
      "{'name': 'ayush', 'class': '12th', 'roll_no': 2, 'age': 17, 'address': 'lucknow'}\n"
     ]
    }
   ],
   "source": [
    "student[\"name\"]= 'ayush'\n",
    "print(student)"
   ]
  },
  {
   "cell_type": "code",
   "execution_count": 6,
   "metadata": {},
   "outputs": [
    {
     "name": "stdout",
     "output_type": "stream",
     "text": [
      "name\n",
      "class\n",
      "roll_no\n",
      "age\n",
      "address\n"
     ]
    }
   ],
   "source": [
    "# sirf keys aayenge\n",
    "for x in student:\n",
    "    print(x)"
   ]
  },
  {
   "cell_type": "code",
   "execution_count": 7,
   "metadata": {},
   "outputs": [
    {
     "name": "stdout",
     "output_type": "stream",
     "text": [
      "name:ayush\n",
      "class:12th\n",
      "roll_no:2\n",
      "age:17\n",
      "address:lucknow\n"
     ]
    }
   ],
   "source": [
    "# key ke saath values bhi print hongi\n",
    "for k,v in student.items():\n",
    "    print(f\"{k}:{v}\")"
   ]
  },
  {
   "cell_type": "code",
   "execution_count": 8,
   "metadata": {},
   "outputs": [
    {
     "name": "stdout",
     "output_type": "stream",
     "text": [
      "dict_keys(['name', 'class', 'roll_no', 'age', 'address'])\n",
      "dict_values(['ayush', '12th', 2, 17, 'lucknow'])\n",
      "dict_items([('name', 'ayush'), ('class', '12th'), ('roll_no', 2), ('age', 17), ('address', 'lucknow')])\n"
     ]
    }
   ],
   "source": [
    "print(student.keys())\n",
    "print(student.values())\n",
    "print(student.items())"
   ]
  },
  {
   "cell_type": "code",
   "execution_count": 18,
   "metadata": {},
   "outputs": [
    {
     "name": "stdout",
     "output_type": "stream",
     "text": [
      "{'emp001': {'name': 'john', 'age': 25, 'dept': 'HR'}, 'emp002': {'name': 'emma', 'age': 30, 'dept': 'IT'}, 'emp003': {'name': 'linda', 'age': 35, 'dept': 'admin'}, 'emp004': {'name': 'pam', 'age': 40, 'dept': 'accounts'}}\n"
     ]
    }
   ],
   "source": [
    "company={\n",
    "    'emp001': {'name': 'john', 'age': 25,'dept': 'HR'},\n",
    "    'emp002': {'name': 'emma', 'age': 30,'dept': 'IT'},\n",
    "    'emp003': {'name': 'linda', 'age': 35,'dept': 'admin'},\n",
    "    'emp004': {'name': 'pam', 'age': 40,'dept': 'accounts'}\n",
    "}\n",
    "print(company)"
   ]
  },
  {
   "cell_type": "code",
   "execution_count": 21,
   "metadata": {},
   "outputs": [
    {
     "name": "stdout",
     "output_type": "stream",
     "text": [
      "{'emp001': {'name': 'john', 'age': 25, 'dept': 'HR'},\n",
      " 'emp002': {'name': 'emma', 'age': 30, 'dept': 'IT'},\n",
      " 'emp003': {'name': 'linda', 'age': 35, 'dept': 'admin'},\n",
      " 'emp004': {'name': 'pam', 'age': 40, 'dept': 'accounts'}}\n"
     ]
    }
   ],
   "source": [
    "from pprint import pp\n",
    "pp(company)"
   ]
  },
  {
   "cell_type": "code",
   "execution_count": 23,
   "metadata": {},
   "outputs": [
    {
     "name": "stdout",
     "output_type": "stream",
     "text": [
      "30\n",
      "accounts\n"
     ]
    }
   ],
   "source": [
    "print(company['emp002']['age'])\n",
    "print(company['emp004']['dept'])"
   ]
  },
  {
   "cell_type": "code",
   "execution_count": 25,
   "metadata": {},
   "outputs": [
    {
     "name": "stdout",
     "output_type": "stream",
     "text": [
      "30\n"
     ]
    }
   ],
   "source": [
    "print(temp['lucknow'][1])"
   ]
  },
  {
   "cell_type": "code",
   "execution_count": 31,
   "metadata": {},
   "outputs": [
    {
     "name": "stdout",
     "output_type": "stream",
     "text": [
      "75\n",
      "3\n"
     ]
    }
   ],
   "source": [
    "a= sum(temp['delhi'])\n",
    "b= len(temp['delhi'])\n",
    "print(a)\n",
    "print(b)"
   ]
  },
  {
   "cell_type": "code",
   "execution_count": 32,
   "metadata": {},
   "outputs": [
    {
     "name": "stdout",
     "output_type": "stream",
     "text": [
      "25.0\n"
     ]
    }
   ],
   "source": [
    "print(a/b)"
   ]
  },
  {
   "cell_type": "code",
   "execution_count": 28,
   "metadata": {},
   "outputs": [
    {
     "name": "stdout",
     "output_type": "stream",
     "text": [
      "average of delhi temprature: 25.0\n"
     ]
    }
   ],
   "source": [
    "print('average of delhi temprature:',sum(temp['delhi'])/len(temp['delhi']))"
   ]
  }
 ],
 "metadata": {
  "kernelspec": {
   "display_name": "base",
   "language": "python",
   "name": "python3"
  },
  "language_info": {
   "codemirror_mode": {
    "name": "ipython",
    "version": 3
   },
   "file_extension": ".py",
   "mimetype": "text/x-python",
   "name": "python",
   "nbconvert_exporter": "python",
   "pygments_lexer": "ipython3",
   "version": "3.12.3"
  }
 },
 "nbformat": 4,
 "nbformat_minor": 2
}

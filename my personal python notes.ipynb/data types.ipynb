{
 "cells": [
  {
   "cell_type": "markdown",
   "metadata": {},
   "source": [
    "# Python Data Types\n",
    "\n",
    "\"Built-in Data Types\"\n",
    "\n",
    "In programming, data type is an important concept.\n",
    "\n",
    "Variables can store data of different types, and different types can do different things.\n",
    "\n",
    "Python has the following data types built-in by default, in these categories:\n",
    "\n",
    "- Text Type    ->\t    str\n",
    "- Numeric Types->\tint, float, complex\n",
    "- Sequence Types->\tlist, tuple, range\n",
    "- Mapping Type->   dict\n",
    "- Set Types    ->\t    set, frozenset\n",
    "- Boolean Type ->  \tbool\n",
    "- Binary Types ->\t    bytes, bytearray, memoryview\n",
    "- None Type ->\t    NoneType\n"
   ]
  },
  {
   "cell_type": "code",
   "execution_count": 1,
   "metadata": {},
   "outputs": [
    {
     "name": "stdout",
     "output_type": "stream",
     "text": [
      "<class 'int'>\n"
     ]
    }
   ],
   "source": [
    "# Print the data type of the variable x:\n",
    "\n",
    "x = 5\n",
    "print(type(x))"
   ]
  },
  {
   "cell_type": "markdown",
   "metadata": {},
   "source": [
    "# Setting the Data Type\n",
    "In Python, the data type is set when you assign a value to a variable:"
   ]
  },
  {
   "cell_type": "code",
   "execution_count": 2,
   "metadata": {},
   "outputs": [],
   "source": [
    "\n",
    "\n",
    "# Example\tData Type\tTry it\n",
    "\n",
    "x = \"Hello World\"\t# str\t\n",
    "x = 20   #int\t\n",
    "x = 20.5\t# float\t\n",
    "x = 1j\t# complex\t\n",
    "x = [\"apple\", \"banana\", \"cherry\"]\t# list\t\n",
    "x = (\"apple\", \"banana\", \"cherry\")\t# tuple\t\n",
    "x = range(6)\t# range\t\n",
    "x = {\"name\" : \"John\", \"age\" : 36}\t# dict\t\n",
    "x = {\"apple\", \"banana\", \"cherry\"}\t# set\t\n",
    "x = frozenset({\"apple\", \"banana\", \"cherry\"})\t# frozenset\t\n",
    "x = True\t# bool\t\n",
    "x = b\"Hello\"\t# bytes\t\n",
    "x = bytearray(5)\t# bytearray\t\n",
    "x = memoryview(bytes(5))\t# memoryview\t\n",
    "x = None\t# NoneType\t\n",
    "\n"
   ]
  }
 ],
 "metadata": {
  "kernelspec": {
   "display_name": "base",
   "language": "python",
   "name": "python3"
  },
  "language_info": {
   "codemirror_mode": {
    "name": "ipython",
    "version": 3
   },
   "file_extension": ".py",
   "mimetype": "text/x-python",
   "name": "python",
   "nbconvert_exporter": "python",
   "pygments_lexer": "ipython3",
   "version": "3.12.3"
  }
 },
 "nbformat": 4,
 "nbformat_minor": 2
}
